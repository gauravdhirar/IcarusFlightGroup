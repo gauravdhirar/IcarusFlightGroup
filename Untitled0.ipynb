{
  "nbformat": 4,
  "nbformat_minor": 0,
  "metadata": {
    "colab": {
      "provenance": [],
      "authorship_tag": "ABX9TyMBE2VYKkjwFKqPV9y15qMJ",
      "include_colab_link": true
    },
    "kernelspec": {
      "name": "python3",
      "display_name": "Python 3"
    },
    "language_info": {
      "name": "python"
    }
  },
  "cells": [
    {
      "cell_type": "markdown",
      "metadata": {
        "id": "view-in-github",
        "colab_type": "text"
      },
      "source": [
        "<a href=\"https://colab.research.google.com/github/gauravdhirar/IcarusFlightGroup/blob/main/Untitled0.ipynb\" target=\"_parent\"><img src=\"https://colab.research.google.com/assets/colab-badge.svg\" alt=\"Open In Colab\"/></a>"
      ]
    },
    {
      "cell_type": "code",
      "execution_count": null,
      "metadata": {
        "colab": {
          "base_uri": "https://localhost:8080/"
        },
        "id": "PlHJBtLIG6oQ",
        "outputId": "22329837-bc9b-4efb-e231-e0b9e08080ee"
      },
      "outputs": [
        {
          "output_type": "stream",
          "name": "stdout",
          "text": [
            "the total payload is: 37468 kg\n",
            "cruise fuel fraction (w3/w2):  0.604\n",
            "loiter fuel fraction (w4/w3):  0.987\n",
            "final fuel fraction (w5/w0):  0.566\n",
            "total fuel fraction (wf/w0):  0.46\n"
          ]
        }
      ],
      "source": [
        "import numpy as np\n",
        "import matplotlib.pyplot as plt\n",
        "import pandas as pd\n",
        "import math\n",
        "\n",
        "# payload\n",
        "crew = 14\n",
        "passenger = 330\n",
        "pass_w = 330*82 #kg\n",
        "crew_w = 14*82 #kg\n",
        "total_w = pass_w + crew_w\n",
        "crew_lug = 25*crew #kg\n",
        "pass_lug = 27*passenger #kg\n",
        "payload = total_w + crew_lug + pass_lug\n",
        "print(\"the total payload is:\",payload, \"kg\")\n",
        "\n",
        "range = 9150 #nmi\n",
        "endurance = 30 #min\n",
        "E = endurance/60 #hr\n",
        "fuelcon = 0.478 #lb/lbf-hr\n",
        "speed = 250 #m/s\n",
        "V = speed*1.94 #knots\n",
        "ld_max = 19\n",
        "ld = 0.94*ld_max\n",
        "\n",
        "w3_w2 = np.exp((-range*fuelcon)/(V*ld))\n",
        "print(\"cruise fuel fraction (w3/w2): \",str(round(w3_w2,3)))\n",
        "\n",
        "w4_w3 = np.exp((-E*fuelcon)/(ld))\n",
        "print(\"loiter fuel fraction (w4/w3): \",str(round(w4_w3,3)))\n",
        "\n",
        "w1_w0 = 0.97\n",
        "w2_w1 = 0.985\n",
        "w5_w4 = 0.995\n",
        "\n",
        "w5_w0 = w5_w4*w4_w3*w3_w2*w2_w1*w1_w0\n",
        "print(\"final fuel fraction (w5/w0): \",str(round(w5_w0,3)))\n",
        "\n",
        "wf_w0 = (1-w5_w0)*1.06\n",
        "print(\"total fuel fraction (wf/w0): \",str(round(wf_w0,3)))\n",
        "\n"
      ]
    }
  ]
}